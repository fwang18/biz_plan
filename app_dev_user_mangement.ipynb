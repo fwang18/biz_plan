{
 "cells": [
  {
   "cell_type": "code",
   "execution_count": 1,
   "metadata": {
    "collapsed": true
   },
   "outputs": [],
   "source": [
    "import sqlite3"
   ]
  },
  {
   "cell_type": "markdown",
   "metadata": {},
   "source": [
    "Create database is not exist"
   ]
  },
  {
   "cell_type": "code",
   "execution_count": 2,
   "metadata": {},
   "outputs": [],
   "source": [
    "conn = sqlite3.connect('example.db')\n",
    "c = conn.cursor()\n",
    "\n",
    "# Create table if needed\n",
    "\n",
    "try:\n",
    "    c.execute('''CREATE TABLE users (user_name text, id real, email text, register_time text, register_ip text, register_device text)''')\n",
    "except:\n",
    "    pass\n",
    "\n",
    "try:\n",
    "    c.execute('''CREATE TABLE sessions (id real, session_time text, session_type text, num_pic real, pic_dir text)''')\n",
    "except:\n",
    "    pass\n",
    "try:\n",
    "    c.execute('''CREATE TABLE topups (id real, topup_time text, amount_of_money real, currency_type text)''')\n",
    "except:\n",
    "    pass\n",
    "conn.commit()\n",
    "conn.close()"
   ]
  },
  {
   "cell_type": "code",
   "execution_count": 3,
   "metadata": {
    "collapsed": true
   },
   "outputs": [],
   "source": [
    "def create_connection(db_file):\n",
    "    \"\"\" create a database connection to the SQLite database\n",
    "        specified by db_file\n",
    "    :param db_file: database file\n",
    "    :return: Connection object or None\n",
    "    \"\"\"\n",
    "    try:\n",
    "        conn = sqlite3.connect(db_file)\n",
    "        return conn\n",
    "    except Error as e:\n",
    "        print(e)\n",
    " \n",
    "    return None"
   ]
  },
  {
   "cell_type": "code",
   "execution_count": 4,
   "metadata": {
    "collapsed": true
   },
   "outputs": [],
   "source": [
    "def create_user(conn, user):\n",
    "    \"\"\"\n",
    "    Create a new project into the projects table\n",
    "    :param conn:\n",
    "    :param project:\n",
    "    :return: project id\n",
    "    \"\"\"\n",
    "    sql = ''' INSERT INTO users (user_name, id, email, register_time, register_ip, register_device)\n",
    "              VALUES(?,?,?,?,?,?) '''\n",
    "    cur = conn.cursor()\n",
    "    cur.execute(sql, user)\n",
    "    return cur.lastrowid"
   ]
  },
  {
   "cell_type": "code",
   "execution_count": 5,
   "metadata": {
    "collapsed": true
   },
   "outputs": [],
   "source": [
    "def create_session(conn, session):\n",
    "    \"\"\"\n",
    "    Create a new project into the projects table\n",
    "    :param conn:\n",
    "    :param project:\n",
    "    :return: project id\n",
    "    \"\"\"\n",
    "    sql = ''' INSERT INTO sessions (id, session_time, session_type, num_pic, pic_dir)\n",
    "              VALUES(?,?,?,?,?) '''\n",
    "    cur = conn.cursor()\n",
    "    cur.execute(sql, session)\n",
    "    return cur.lastrowid"
   ]
  },
  {
   "cell_type": "code",
   "execution_count": 6,
   "metadata": {
    "collapsed": true
   },
   "outputs": [],
   "source": [
    "def create_topup(conn, topup):\n",
    "    \"\"\"\n",
    "    Create a new project into the projects table\n",
    "    :param conn:\n",
    "    :param project:\n",
    "    :return: project id\n",
    "    \"\"\"\n",
    "    sql = ''' INSERT INTO topups (id, topup_time, amount_of_money, currency_type)\n",
    "              VALUES(?,?,?,?) '''\n",
    "    cur = conn.cursor()\n",
    "    cur.execute(sql, topup)\n",
    "    return cur.lastrowid"
   ]
  },
  {
   "cell_type": "markdown",
   "metadata": {},
   "source": [
    "For our business, we care about the following activities:\n",
    "\n",
    "    1. register -> insertion into Users\n",
    "    2. login/logout -> insertion into Sessions\n",
    "    3. rank pictures -> insertion into Sessions\n",
    "    4. topup -> insertion into Topups\n",
    "\n",
    "Here are the exmpales"
   ]
  },
  {
   "cell_type": "code",
   "execution_count": 7,
   "metadata": {
    "collapsed": true
   },
   "outputs": [],
   "source": [
    "#insertion samples\n",
    "def main():\n",
    "    database = \"./example.db\"\n",
    " \n",
    "    # create a database connection\n",
    "    conn = create_connection(database)\n",
    "    with conn:\n",
    "        # create a new user\n",
    "        user = ('Miao', 23896, 'zhengyuedi@gmail.com', '04/12/2018 17:23:02', '127.0.0.0', 'iPhone 6s');\n",
    "        create_user(conn, user)\n",
    " \n",
    "        # login/logout\n",
    "        session = (23896, '04/12/2018 18:02:03', 'login', 0, '')\n",
    "        create_session(conn, session)\n",
    " \n",
    "        # rank pics\n",
    "        session = (23896, '04/12/2018 18:12:38', 'rank', 3, '/tmp/Miao/8ne9s3/')\n",
    "        create_session(conn, session)\n",
    "        \n",
    "        # topup\n",
    "        topup = (23896, '04/12/2018 19:05:09', 20, 'USD')\n",
    "        create_topup(conn, topup)"
   ]
  },
  {
   "cell_type": "code",
   "execution_count": 8,
   "metadata": {},
   "outputs": [],
   "source": [
    "if __name__ == '__main__':\n",
    "    main()"
   ]
  },
  {
   "cell_type": "markdown",
   "metadata": {},
   "source": [
    "Look what we get yet"
   ]
  },
  {
   "cell_type": "code",
   "execution_count": 10,
   "metadata": {},
   "outputs": [
    {
     "name": "stdout",
     "output_type": "stream",
     "text": [
      "('Miao', 23896.0, 'zhengyuedi@gmail.com', '04/12/2018 17:23:02', '127.0.0.0', 'iPhone 6s')\n"
     ]
    }
   ],
   "source": [
    "database = \"./example.db\"\n",
    "conn = create_connection(database)\n",
    "c = conn.cursor()\n",
    "for row in c.execute(\"SELECT * FROM users;\"):\n",
    "    print(row)"
   ]
  },
  {
   "cell_type": "code",
   "execution_count": 11,
   "metadata": {},
   "outputs": [
    {
     "name": "stdout",
     "output_type": "stream",
     "text": [
      "(23896.0, '04/12/2018 18:02:03', 'login', 0.0, '')\n",
      "(23896.0, '04/12/2018 18:12:38', 'rank', 3.0, '/tmp/Miao/8ne9s3/')\n"
     ]
    }
   ],
   "source": [
    "for row in c.execute(\"SELECT * FROM sessions;\"):\n",
    "    print(row)"
   ]
  }
 ],
 "metadata": {
  "kernelspec": {
   "display_name": "Python 3",
   "language": "python",
   "name": "python3"
  },
  "language_info": {
   "codemirror_mode": {
    "name": "ipython",
    "version": 3
   },
   "file_extension": ".py",
   "mimetype": "text/x-python",
   "name": "python",
   "nbconvert_exporter": "python",
   "pygments_lexer": "ipython3",
   "version": "3.6.1"
  }
 },
 "nbformat": 4,
 "nbformat_minor": 2
}
